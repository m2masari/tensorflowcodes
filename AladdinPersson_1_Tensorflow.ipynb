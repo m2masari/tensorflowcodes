{
 "cells": [
  {
   "cell_type": "markdown",
   "id": "83515cb5",
   "metadata": {},
   "source": [
    "https://www.youtube.com/watch?v=5Ym-dOS9ssA&list=PLhhyoLH6IjfxVOdVC1P1L5z5azs0XjMsb\n",
    "video 3"
   ]
  },
  {
   "cell_type": "code",
   "execution_count": 2,
   "id": "a8e68da1",
   "metadata": {},
   "outputs": [],
   "source": [
    "import tensorflow as tf"
   ]
  },
  {
   "cell_type": "code",
   "execution_count": 71,
   "id": "4048f363",
   "metadata": {},
   "outputs": [],
   "source": [
    "physical_devices=tf.config.list_physical_devices('GPU')\n",
    "#tf.config.experimental.set_memory_growth(physical_devices[1],True)"
   ]
  },
  {
   "cell_type": "code",
   "execution_count": 2,
   "id": "e5b118cc",
   "metadata": {},
   "outputs": [
    {
     "name": "stdout",
     "output_type": "stream",
     "text": [
      "2.13.0\n"
     ]
    }
   ],
   "source": [
    "print(tf.__version__)"
   ]
  },
  {
   "cell_type": "markdown",
   "id": "a5511c00",
   "metadata": {},
   "source": [
    "Tensor:Form a programming perspective , a tensor is a multidimensional array that has ability to run on GPU"
   ]
  },
  {
   "cell_type": "code",
   "execution_count": 3,
   "id": "383a22e2",
   "metadata": {},
   "outputs": [],
   "source": [
    "x=tf.constant(4)"
   ]
  },
  {
   "cell_type": "code",
   "execution_count": 4,
   "id": "1c2c7810",
   "metadata": {},
   "outputs": [
    {
     "name": "stdout",
     "output_type": "stream",
     "text": [
      "tf.Tensor(4, shape=(), dtype=int32)\n"
     ]
    }
   ],
   "source": [
    "print(x)"
   ]
  },
  {
   "cell_type": "code",
   "execution_count": 5,
   "id": "6f02bff4",
   "metadata": {},
   "outputs": [],
   "source": [
    "x=tf.constant(4.0)"
   ]
  },
  {
   "cell_type": "code",
   "execution_count": 6,
   "id": "05b83871",
   "metadata": {},
   "outputs": [
    {
     "name": "stdout",
     "output_type": "stream",
     "text": [
      "tf.Tensor(4.0, shape=(), dtype=float32)\n"
     ]
    }
   ],
   "source": [
    "print(x)"
   ]
  },
  {
   "cell_type": "code",
   "execution_count": 7,
   "id": "e5bcb984",
   "metadata": {},
   "outputs": [],
   "source": [
    "x=tf.constant(4,shape=(1,1),dtype=tf.float32)"
   ]
  },
  {
   "cell_type": "code",
   "execution_count": 8,
   "id": "de9ec0fd",
   "metadata": {},
   "outputs": [
    {
     "name": "stdout",
     "output_type": "stream",
     "text": [
      "tf.Tensor([[4.]], shape=(1, 1), dtype=float32)\n"
     ]
    }
   ],
   "source": [
    "print(x)"
   ]
  },
  {
   "cell_type": "code",
   "execution_count": 15,
   "id": "5e602644",
   "metadata": {},
   "outputs": [],
   "source": [
    "x=tf.constant([[1,2,3],[4,5,6]],shape=(2,3))"
   ]
  },
  {
   "cell_type": "code",
   "execution_count": 16,
   "id": "14906566",
   "metadata": {},
   "outputs": [
    {
     "name": "stdout",
     "output_type": "stream",
     "text": [
      "tf.Tensor(\n",
      "[[1 2 3]\n",
      " [4 5 6]], shape=(2, 3), dtype=int32)\n"
     ]
    }
   ],
   "source": [
    "print(x)"
   ]
  },
  {
   "cell_type": "code",
   "execution_count": 17,
   "id": "2c361bd3",
   "metadata": {},
   "outputs": [],
   "source": [
    "x=tf.ones((3,3))"
   ]
  },
  {
   "cell_type": "code",
   "execution_count": 18,
   "id": "950de79a",
   "metadata": {},
   "outputs": [
    {
     "name": "stdout",
     "output_type": "stream",
     "text": [
      "tf.Tensor(\n",
      "[[1. 1. 1.]\n",
      " [1. 1. 1.]\n",
      " [1. 1. 1.]], shape=(3, 3), dtype=float32)\n"
     ]
    }
   ],
   "source": [
    "print(x)"
   ]
  },
  {
   "cell_type": "code",
   "execution_count": 19,
   "id": "4d4d738a",
   "metadata": {},
   "outputs": [],
   "source": [
    "x=tf.zeros((2,3))"
   ]
  },
  {
   "cell_type": "code",
   "execution_count": 20,
   "id": "ec96f609",
   "metadata": {},
   "outputs": [
    {
     "name": "stdout",
     "output_type": "stream",
     "text": [
      "tf.Tensor(\n",
      "[[0. 0. 0.]\n",
      " [0. 0. 0.]], shape=(2, 3), dtype=float32)\n"
     ]
    }
   ],
   "source": [
    "print(x)"
   ]
  },
  {
   "cell_type": "code",
   "execution_count": 21,
   "id": "e366f411",
   "metadata": {},
   "outputs": [],
   "source": [
    "x=tf.eye(3)"
   ]
  },
  {
   "cell_type": "code",
   "execution_count": 22,
   "id": "a59bf89b",
   "metadata": {},
   "outputs": [
    {
     "name": "stdout",
     "output_type": "stream",
     "text": [
      "tf.Tensor(\n",
      "[[1. 0. 0.]\n",
      " [0. 1. 0.]\n",
      " [0. 0. 1.]], shape=(3, 3), dtype=float32)\n"
     ]
    }
   ],
   "source": [
    "print(x)"
   ]
  },
  {
   "cell_type": "code",
   "execution_count": 3,
   "id": "ebcbb374",
   "metadata": {},
   "outputs": [],
   "source": [
    "x=tf.random.normal((2,3,4),mean=0,stddev=1)"
   ]
  },
  {
   "cell_type": "code",
   "execution_count": 4,
   "id": "0eab43b0",
   "metadata": {},
   "outputs": [
    {
     "name": "stdout",
     "output_type": "stream",
     "text": [
      "tf.Tensor(\n",
      "[[[ 0.21478361 -0.86415917  1.266198   -0.4470239 ]\n",
      "  [ 1.2907151   1.0018272  -0.478398    0.25391835]\n",
      "  [-1.7501918  -1.6734685   0.08509771 -0.64854556]]\n",
      "\n",
      " [[ 0.07341845  1.4977173   0.11266054 -2.2029867 ]\n",
      "  [-1.0703428   0.65042627 -0.38715288 -0.9559728 ]\n",
      "  [ 0.7388649  -0.45263082 -1.2940228  -0.38537347]]], shape=(2, 3, 4), dtype=float32)\n"
     ]
    }
   ],
   "source": [
    "print(x)"
   ]
  },
  {
   "cell_type": "code",
   "execution_count": 26,
   "id": "38e3feae",
   "metadata": {},
   "outputs": [
    {
     "data": {
      "text/plain": [
       "<tf.Tensor: shape=(3, 4), dtype=float32, numpy=\n",
       "array([[-0.04892362, -0.0967765 , -0.04448722,  0.5181608 ],\n",
       "       [ 1.413146  ,  0.38442782, -1.8361334 ,  0.250824  ],\n",
       "       [-0.08258942,  0.7108245 ,  0.13029942,  1.6027954 ]],\n",
       "      dtype=float32)>"
      ]
     },
     "execution_count": 26,
     "metadata": {},
     "output_type": "execute_result"
    }
   ],
   "source": [
    "x[1]"
   ]
  },
  {
   "cell_type": "code",
   "execution_count": 30,
   "id": "b598ba9f",
   "metadata": {},
   "outputs": [
    {
     "data": {
      "text/plain": [
       "<tf.Tensor: shape=(4,), dtype=float32, numpy=array([0.60581136, 0.04235029, 0.02255724, 0.40679172], dtype=float32)>"
      ]
     },
     "execution_count": 30,
     "metadata": {},
     "output_type": "execute_result"
    }
   ],
   "source": [
    "x[0,1]"
   ]
  },
  {
   "cell_type": "code",
   "execution_count": 31,
   "id": "969d20c1",
   "metadata": {},
   "outputs": [],
   "source": [
    "x=tf.random.uniform((1,3),minval=0,maxval=1)"
   ]
  },
  {
   "cell_type": "code",
   "execution_count": 32,
   "id": "c89f858c",
   "metadata": {},
   "outputs": [
    {
     "name": "stdout",
     "output_type": "stream",
     "text": [
      "tf.Tensor([[0.10629737 0.96291804 0.03338659]], shape=(1, 3), dtype=float32)\n"
     ]
    }
   ],
   "source": [
    "print(x)"
   ]
  },
  {
   "cell_type": "code",
   "execution_count": 33,
   "id": "6cc6e14f",
   "metadata": {},
   "outputs": [],
   "source": [
    "x=tf.range(9)"
   ]
  },
  {
   "cell_type": "code",
   "execution_count": 34,
   "id": "6da3e577",
   "metadata": {},
   "outputs": [
    {
     "name": "stdout",
     "output_type": "stream",
     "text": [
      "tf.Tensor([0 1 2 3 4 5 6 7 8], shape=(9,), dtype=int32)\n"
     ]
    }
   ],
   "source": [
    "print(x)"
   ]
  },
  {
   "cell_type": "code",
   "execution_count": 40,
   "id": "db137304",
   "metadata": {},
   "outputs": [],
   "source": [
    "x=tf.range(start=1,limit=10,delta=2)"
   ]
  },
  {
   "cell_type": "code",
   "execution_count": 41,
   "id": "be5dc405",
   "metadata": {},
   "outputs": [
    {
     "name": "stdout",
     "output_type": "stream",
     "text": [
      "tf.Tensor([1 3 5 7 9], shape=(5,), dtype=int32)\n"
     ]
    }
   ],
   "source": [
    "print(x)"
   ]
  },
  {
   "cell_type": "code",
   "execution_count": 42,
   "id": "759eb9c1",
   "metadata": {},
   "outputs": [],
   "source": [
    "x=tf.cast(x,dtype=tf.float64)"
   ]
  },
  {
   "cell_type": "code",
   "execution_count": 43,
   "id": "6ce7dc5d",
   "metadata": {},
   "outputs": [
    {
     "name": "stdout",
     "output_type": "stream",
     "text": [
      "tf.Tensor([1. 3. 5. 7. 9.], shape=(5,), dtype=float64)\n"
     ]
    }
   ],
   "source": [
    "print(x)"
   ]
  },
  {
   "cell_type": "code",
   "execution_count": 44,
   "id": "bde92839",
   "metadata": {},
   "outputs": [],
   "source": [
    "x=tf.constant([1,2,3])\n",
    "y=tf.constant([9,8,7])"
   ]
  },
  {
   "cell_type": "code",
   "execution_count": 45,
   "id": "922ba5ea",
   "metadata": {},
   "outputs": [],
   "source": [
    "z=tf.add(x,y)"
   ]
  },
  {
   "cell_type": "code",
   "execution_count": 46,
   "id": "ac73c672",
   "metadata": {},
   "outputs": [
    {
     "name": "stdout",
     "output_type": "stream",
     "text": [
      "tf.Tensor([10 10 10], shape=(3,), dtype=int32)\n"
     ]
    }
   ],
   "source": [
    "print(z)"
   ]
  },
  {
   "cell_type": "code",
   "execution_count": 47,
   "id": "c19360be",
   "metadata": {},
   "outputs": [],
   "source": [
    "z=x+y"
   ]
  },
  {
   "cell_type": "code",
   "execution_count": 48,
   "id": "a1feca2c",
   "metadata": {},
   "outputs": [
    {
     "name": "stdout",
     "output_type": "stream",
     "text": [
      "tf.Tensor([10 10 10], shape=(3,), dtype=int32)\n"
     ]
    }
   ],
   "source": [
    "print(z)"
   ]
  },
  {
   "cell_type": "code",
   "execution_count": 51,
   "id": "717b7fe3",
   "metadata": {},
   "outputs": [],
   "source": [
    "z=tf.subtract(x,y)\n",
    "z=x-y"
   ]
  },
  {
   "cell_type": "code",
   "execution_count": 52,
   "id": "c5236001",
   "metadata": {},
   "outputs": [],
   "source": [
    "z=tf.divide(x,y)"
   ]
  },
  {
   "cell_type": "code",
   "execution_count": 53,
   "id": "8ef0286d",
   "metadata": {},
   "outputs": [],
   "source": [
    "z=x/y"
   ]
  },
  {
   "cell_type": "code",
   "execution_count": 54,
   "id": "eabd2697",
   "metadata": {},
   "outputs": [],
   "source": [
    "z=tf.multiply(x,y)"
   ]
  },
  {
   "cell_type": "code",
   "execution_count": 55,
   "id": "0cbc7533",
   "metadata": {},
   "outputs": [],
   "source": [
    "z=x*y"
   ]
  },
  {
   "cell_type": "code",
   "execution_count": 61,
   "id": "2cb22797",
   "metadata": {},
   "outputs": [],
   "source": [
    "z=tf.tensordot(x,y,axes=1)"
   ]
  },
  {
   "cell_type": "code",
   "execution_count": 62,
   "id": "1cd5a352",
   "metadata": {},
   "outputs": [
    {
     "name": "stdout",
     "output_type": "stream",
     "text": [
      "tf.Tensor(46, shape=(), dtype=int32)\n"
     ]
    }
   ],
   "source": [
    "print(z)"
   ]
  },
  {
   "cell_type": "code",
   "execution_count": 63,
   "id": "a5ce3dae",
   "metadata": {},
   "outputs": [],
   "source": [
    "z=tf.reduce_sum(x*y,axis=0)"
   ]
  },
  {
   "cell_type": "code",
   "execution_count": 64,
   "id": "b9ca1ce4",
   "metadata": {},
   "outputs": [
    {
     "name": "stdout",
     "output_type": "stream",
     "text": [
      "tf.Tensor(46, shape=(), dtype=int32)\n"
     ]
    }
   ],
   "source": [
    "print(z)"
   ]
  },
  {
   "cell_type": "code",
   "execution_count": 65,
   "id": "7ca2a568",
   "metadata": {},
   "outputs": [],
   "source": [
    "z=x**5"
   ]
  },
  {
   "cell_type": "code",
   "execution_count": 66,
   "id": "0c782e8d",
   "metadata": {},
   "outputs": [
    {
     "name": "stdout",
     "output_type": "stream",
     "text": [
      "tf.Tensor([  1  32 243], shape=(3,), dtype=int32)\n"
     ]
    }
   ],
   "source": [
    "print(z)"
   ]
  },
  {
   "cell_type": "code",
   "execution_count": 77,
   "id": "6d119c57",
   "metadata": {},
   "outputs": [],
   "source": [
    "x=tf.random.normal((2,3))\n",
    "y=tf.random.normal((3,4))\n"
   ]
  },
  {
   "cell_type": "code",
   "execution_count": null,
   "id": "b51aad5c",
   "metadata": {},
   "outputs": [],
   "source": [
    "z=tf.matmul(x,y)"
   ]
  },
  {
   "cell_type": "code",
   "execution_count": 78,
   "id": "4c61cf03",
   "metadata": {},
   "outputs": [
    {
     "name": "stdout",
     "output_type": "stream",
     "text": [
      "tf.Tensor(\n",
      "[[0.9017019  1.6444894  2.0779538  0.93692476]\n",
      " [1.7208606  0.92470896 0.59651667 0.2128017 ]], shape=(2, 4), dtype=float32)\n"
     ]
    }
   ],
   "source": [
    "z=x@y\n",
    "print(z)"
   ]
  },
  {
   "cell_type": "code",
   "execution_count": 79,
   "id": "846c20b5",
   "metadata": {},
   "outputs": [],
   "source": [
    "x=tf.constant([0,1,1])"
   ]
  },
  {
   "cell_type": "markdown",
   "id": "68130c7a",
   "metadata": {},
   "source": [
    "#ındexing"
   ]
  },
  {
   "cell_type": "code",
   "execution_count": 80,
   "id": "996353b4",
   "metadata": {},
   "outputs": [],
   "source": [
    "x=tf.constant([0,1,1,2,3,1,2,3])"
   ]
  },
  {
   "cell_type": "code",
   "execution_count": 81,
   "id": "1b251c18",
   "metadata": {},
   "outputs": [
    {
     "name": "stdout",
     "output_type": "stream",
     "text": [
      "tf.Tensor([0 1 1 2 3 1 2 3], shape=(8,), dtype=int32)\n"
     ]
    }
   ],
   "source": [
    "print(x[:])"
   ]
  },
  {
   "cell_type": "code",
   "execution_count": 82,
   "id": "b45b35f5",
   "metadata": {},
   "outputs": [
    {
     "name": "stdout",
     "output_type": "stream",
     "text": [
      "tf.Tensor([1 1 2 3 1 2 3], shape=(7,), dtype=int32)\n"
     ]
    }
   ],
   "source": [
    "print(x[1:])"
   ]
  },
  {
   "cell_type": "code",
   "execution_count": 83,
   "id": "4e131e48",
   "metadata": {},
   "outputs": [
    {
     "name": "stdout",
     "output_type": "stream",
     "text": [
      "tf.Tensor([1 1], shape=(2,), dtype=int32)\n"
     ]
    }
   ],
   "source": [
    "print(x[1:3])"
   ]
  },
  {
   "cell_type": "code",
   "execution_count": 85,
   "id": "804237a1",
   "metadata": {},
   "outputs": [
    {
     "name": "stdout",
     "output_type": "stream",
     "text": [
      "tf.Tensor([0 1 3 2], shape=(4,), dtype=int32)\n"
     ]
    }
   ],
   "source": [
    "print(x[::2])"
   ]
  },
  {
   "cell_type": "code",
   "execution_count": 86,
   "id": "c8b0559d",
   "metadata": {},
   "outputs": [
    {
     "name": "stdout",
     "output_type": "stream",
     "text": [
      "tf.Tensor([3 2 1 3 2 1 1 0], shape=(8,), dtype=int32)\n"
     ]
    }
   ],
   "source": [
    "print(x[::-1])"
   ]
  },
  {
   "cell_type": "code",
   "execution_count": 87,
   "id": "609c99c1",
   "metadata": {},
   "outputs": [],
   "source": [
    "indices=tf.constant([0,3])"
   ]
  },
  {
   "cell_type": "code",
   "execution_count": 88,
   "id": "a6fd7cb3",
   "metadata": {},
   "outputs": [],
   "source": [
    "x_ind=tf.gather(x,indices)"
   ]
  },
  {
   "cell_type": "code",
   "execution_count": 89,
   "id": "10a467fa",
   "metadata": {},
   "outputs": [
    {
     "name": "stdout",
     "output_type": "stream",
     "text": [
      "tf.Tensor([0 2], shape=(2,), dtype=int32)\n"
     ]
    }
   ],
   "source": [
    "print(x_ind)"
   ]
  },
  {
   "cell_type": "code",
   "execution_count": 92,
   "id": "56cbea9d",
   "metadata": {},
   "outputs": [],
   "source": [
    "x=tf.constant([[1,2],\n",
    "              [3,4],\n",
    "              [5,6]])"
   ]
  },
  {
   "cell_type": "code",
   "execution_count": 93,
   "id": "69149873",
   "metadata": {},
   "outputs": [
    {
     "name": "stdout",
     "output_type": "stream",
     "text": [
      "tf.Tensor([1 2], shape=(2,), dtype=int32)\n"
     ]
    }
   ],
   "source": [
    "print(x[0])"
   ]
  },
  {
   "cell_type": "code",
   "execution_count": 94,
   "id": "0093f2aa",
   "metadata": {},
   "outputs": [
    {
     "name": "stdout",
     "output_type": "stream",
     "text": [
      "tf.Tensor([1 2], shape=(2,), dtype=int32)\n"
     ]
    }
   ],
   "source": [
    "print(x[0,:])"
   ]
  },
  {
   "cell_type": "code",
   "execution_count": 95,
   "id": "c8c17c83",
   "metadata": {},
   "outputs": [
    {
     "name": "stdout",
     "output_type": "stream",
     "text": [
      "tf.Tensor(\n",
      "[[1 2]\n",
      " [3 4]], shape=(2, 2), dtype=int32)\n"
     ]
    }
   ],
   "source": [
    "print(x[0:2,])"
   ]
  },
  {
   "cell_type": "markdown",
   "id": "f563631d",
   "metadata": {},
   "source": [
    "#Reshaping"
   ]
  },
  {
   "cell_type": "code",
   "execution_count": 103,
   "id": "ee9d0a4e",
   "metadata": {},
   "outputs": [],
   "source": [
    "x=tf.range(9)"
   ]
  },
  {
   "cell_type": "code",
   "execution_count": 104,
   "id": "9fb51dff",
   "metadata": {},
   "outputs": [
    {
     "name": "stdout",
     "output_type": "stream",
     "text": [
      "tf.Tensor([0 1 2 3 4 5 6 7 8], shape=(9,), dtype=int32)\n"
     ]
    }
   ],
   "source": [
    "print(x)"
   ]
  },
  {
   "cell_type": "code",
   "execution_count": 105,
   "id": "6eef1cf9",
   "metadata": {},
   "outputs": [],
   "source": [
    "x=tf.reshape(x,(3,3))"
   ]
  },
  {
   "cell_type": "code",
   "execution_count": 106,
   "id": "bcdb5e4c",
   "metadata": {},
   "outputs": [
    {
     "name": "stdout",
     "output_type": "stream",
     "text": [
      "tf.Tensor(\n",
      "[[0 1 2]\n",
      " [3 4 5]\n",
      " [6 7 8]], shape=(3, 3), dtype=int32)\n"
     ]
    }
   ],
   "source": [
    "print(x)"
   ]
  },
  {
   "cell_type": "code",
   "execution_count": 107,
   "id": "b2d15369",
   "metadata": {},
   "outputs": [],
   "source": [
    "x=tf.transpose(x,perm=[1,0])"
   ]
  },
  {
   "cell_type": "code",
   "execution_count": 108,
   "id": "a92ff7b6",
   "metadata": {},
   "outputs": [
    {
     "name": "stdout",
     "output_type": "stream",
     "text": [
      "tf.Tensor(\n",
      "[[0 3 6]\n",
      " [1 4 7]\n",
      " [2 5 8]], shape=(3, 3), dtype=int32)\n"
     ]
    }
   ],
   "source": [
    "print(x)"
   ]
  },
  {
   "cell_type": "code",
   "execution_count": null,
   "id": "c675b4cb",
   "metadata": {},
   "outputs": [],
   "source": []
  }
 ],
 "metadata": {
  "kernelspec": {
   "display_name": "Python 3 (ipykernel)",
   "language": "python",
   "name": "python3"
  },
  "language_info": {
   "codemirror_mode": {
    "name": "ipython",
    "version": 3
   },
   "file_extension": ".py",
   "mimetype": "text/x-python",
   "name": "python",
   "nbconvert_exporter": "python",
   "pygments_lexer": "ipython3",
   "version": "3.9.7"
  }
 },
 "nbformat": 4,
 "nbformat_minor": 5
}
