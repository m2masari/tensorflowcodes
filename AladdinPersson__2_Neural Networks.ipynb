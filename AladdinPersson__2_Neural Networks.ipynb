{
 "cells": [
  {
   "cell_type": "markdown",
   "id": "9e881a14",
   "metadata": {},
   "source": [
    "https://www.youtube.com/watch?v=pAhPiF3yiXI&list=PLhhyoLH6IjfxVOdVC1P1L5z5azs0XjMsb&index=3"
   ]
  },
  {
   "cell_type": "markdown",
   "id": "b8083cca",
   "metadata": {},
   "source": [
    "video3 12.16"
   ]
  },
  {
   "cell_type": "code",
   "execution_count": 1,
   "id": "40994300",
   "metadata": {},
   "outputs": [],
   "source": [
    "import os\n",
    "os.environ['TF_CPP_MIN_LOG_LEVEL']='2'\n",
    "import tensorflow as tf\n",
    "from tensorflow import keras\n",
    "from tensorflow.keras import layers\n",
    "from tensorflow.keras.datasets import mnist"
   ]
  },
  {
   "cell_type": "code",
   "execution_count": 2,
   "id": "992a98d8",
   "metadata": {},
   "outputs": [],
   "source": [
    "physical_devices=tf.config.list_physical_devices('GPU')"
   ]
  },
  {
   "cell_type": "code",
   "execution_count": 3,
   "id": "bfc2813b",
   "metadata": {},
   "outputs": [],
   "source": [
    "(x_train,y_train),(x_test,y_test)=mnist.load_data()"
   ]
  },
  {
   "cell_type": "code",
   "execution_count": 4,
   "id": "b5a05383",
   "metadata": {},
   "outputs": [
    {
     "data": {
      "text/plain": [
       "numpy.ndarray"
      ]
     },
     "execution_count": 4,
     "metadata": {},
     "output_type": "execute_result"
    }
   ],
   "source": [
    "type(x_train)"
   ]
  },
  {
   "cell_type": "code",
   "execution_count": 5,
   "id": "f9570c27",
   "metadata": {},
   "outputs": [
    {
     "data": {
      "text/plain": [
       "numpy.ndarray"
      ]
     },
     "execution_count": 5,
     "metadata": {},
     "output_type": "execute_result"
    }
   ],
   "source": [
    "type(y_train)"
   ]
  },
  {
   "cell_type": "code",
   "execution_count": 6,
   "id": "6de2e4b5",
   "metadata": {},
   "outputs": [
    {
     "name": "stdout",
     "output_type": "stream",
     "text": [
      "(60000, 28, 28)\n",
      "(60000,)\n"
     ]
    }
   ],
   "source": [
    "print(x_train.shape)\n",
    "print(y_train.shape)"
   ]
  },
  {
   "cell_type": "code",
   "execution_count": 7,
   "id": "4c023406",
   "metadata": {},
   "outputs": [],
   "source": [
    "x_train=x_train.reshape(-1,28*28).astype(\"float32\")/255.0\n",
    "x_test=x_test.reshape(-1,28*28).astype(\"float32\")/255.0"
   ]
  },
  {
   "cell_type": "code",
   "execution_count": 8,
   "id": "d5377545",
   "metadata": {},
   "outputs": [],
   "source": [
    "from numpy.random import default_rng"
   ]
  },
  {
   "cell_type": "code",
   "execution_count": 9,
   "id": "a51e446d",
   "metadata": {},
   "outputs": [
    {
     "data": {
      "text/plain": [
       "array([[[0.77395605, 0.43887844],\n",
       "        [0.85859792, 0.69736803]],\n",
       "\n",
       "       [[0.09417735, 0.97562235],\n",
       "        [0.7611397 , 0.78606431]],\n",
       "\n",
       "       [[0.12811363, 0.45038594],\n",
       "        [0.37079802, 0.92676499]]])"
      ]
     },
     "execution_count": 9,
     "metadata": {},
     "output_type": "execute_result"
    }
   ],
   "source": [
    "x=default_rng(42).random((3,2,2))\n",
    "x"
   ]
  },
  {
   "cell_type": "code",
   "execution_count": 10,
   "id": "3368efdf",
   "metadata": {},
   "outputs": [
    {
     "data": {
      "text/plain": [
       "array([[0.77395605, 0.43887844, 0.85859792, 0.69736803],\n",
       "       [0.09417735, 0.97562235, 0.7611397 , 0.78606431],\n",
       "       [0.12811363, 0.45038594, 0.37079802, 0.92676499]])"
      ]
     },
     "execution_count": 10,
     "metadata": {},
     "output_type": "execute_result"
    }
   ],
   "source": [
    "x.reshape(-1,4)"
   ]
  },
  {
   "cell_type": "markdown",
   "id": "65a1249a",
   "metadata": {},
   "source": [
    "# MODEL"
   ]
  },
  {
   "cell_type": "markdown",
   "id": "4529e782",
   "metadata": {},
   "source": [
    "Sequantial API (very convenient, not very flexible)"
   ]
  },
  {
   "cell_type": "code",
   "execution_count": 11,
   "id": "8f7c55f3",
   "metadata": {},
   "outputs": [],
   "source": [
    "model=keras.Sequential(\n",
    "             [\n",
    "                keras.Input(shape=(28*28)),  #you can print the model\n",
    "                layers.Dense(512,activation='relu'), \n",
    "                layers.Dense(256,activation='relu'),\n",
    "                layers.Dense(10),\n",
    "             ]\n",
    ")"
   ]
  },
  {
   "cell_type": "code",
   "execution_count": 12,
   "id": "9d292f30",
   "metadata": {},
   "outputs": [
    {
     "name": "stdout",
     "output_type": "stream",
     "text": [
      "Model: \"sequential\"\n",
      "_________________________________________________________________\n",
      " Layer (type)                Output Shape              Param #   \n",
      "=================================================================\n",
      " dense (Dense)               (None, 512)               401920    \n",
      "                                                                 \n",
      " dense_1 (Dense)             (None, 256)               131328    \n",
      "                                                                 \n",
      " dense_2 (Dense)             (None, 10)                2570      \n",
      "                                                                 \n",
      "=================================================================\n",
      "Total params: 535818 (2.04 MB)\n",
      "Trainable params: 535818 (2.04 MB)\n",
      "Non-trainable params: 0 (0.00 Byte)\n",
      "_________________________________________________________________\n",
      "None\n"
     ]
    }
   ],
   "source": [
    "print(model.summary())"
   ]
  },
  {
   "cell_type": "code",
   "execution_count": 13,
   "id": "2568abc4",
   "metadata": {},
   "outputs": [
    {
     "ename": "SystemExit",
     "evalue": "",
     "output_type": "error",
     "traceback": [
      "An exception has occurred, use %tb to see the full traceback.\n",
      "\u001b[1;31mSystemExit\u001b[0m\n"
     ]
    },
    {
     "name": "stderr",
     "output_type": "stream",
     "text": [
      "C:\\Users\\melik.masarifoglu\\Anaconda3\\envs\\new_env_3_9_7\\lib\\site-packages\\IPython\\core\\interactiveshell.py:3441: UserWarning: To exit: use 'exit', 'quit', or Ctrl-D.\n",
      "  warn(\"To exit: use 'exit', 'quit', or Ctrl-D.\", stacklevel=1)\n"
     ]
    }
   ],
   "source": [
    "import sys\n",
    "sys.exit()"
   ]
  },
  {
   "cell_type": "markdown",
   "id": "f5cd4a5d",
   "metadata": {},
   "source": [
    "another way of sequential api"
   ]
  },
  {
   "cell_type": "code",
   "execution_count": 17,
   "id": "a1d07634",
   "metadata": {},
   "outputs": [
    {
     "name": "stdout",
     "output_type": "stream",
     "text": [
      "Model: \"sequential_4\"\n",
      "_________________________________________________________________\n",
      " Layer (type)                Output Shape              Param #   \n",
      "=================================================================\n",
      " dense_9 (Dense)             (None, 512)               401920    \n",
      "                                                                 \n",
      "=================================================================\n",
      "Total params: 401920 (1.53 MB)\n",
      "Trainable params: 401920 (1.53 MB)\n",
      "Non-trainable params: 0 (0.00 Byte)\n",
      "_________________________________________________________________\n",
      "None\n"
     ]
    }
   ],
   "source": [
    "model=keras.Sequential()\n",
    "model.add(keras.Input(shape=(784)))\n",
    "model.add(layers.Dense(512,activation='relu'))\n",
    "print(model.summary())\n",
    "model.add(layers.Dense(256,activation='relu'))\n",
    "model.add(layers.Dense(10))"
   ]
  },
  {
   "cell_type": "code",
   "execution_count": 18,
   "id": "cd288a46",
   "metadata": {},
   "outputs": [
    {
     "name": "stderr",
     "output_type": "stream",
     "text": [
      "WARNING:absl:`lr` is deprecated in Keras optimizer, please use `learning_rate` or use the legacy optimizer, e.g.,tf.keras.optimizers.legacy.Adam.\n"
     ]
    }
   ],
   "source": [
    "model.compile(\n",
    "     loss=keras.losses.SparseCategoricalCrossentropy(from_logits=True),\n",
    "     optimizer=keras.optimizers.Adam(lr=0.001),\n",
    "     metrics=[\"accuracy\"],\n",
    ")"
   ]
  },
  {
   "cell_type": "code",
   "execution_count": 19,
   "id": "c6e01a03",
   "metadata": {},
   "outputs": [
    {
     "name": "stdout",
     "output_type": "stream",
     "text": [
      "Epoch 1/5\n",
      "1875/1875 - 8s - loss: 0.1861 - accuracy: 0.9435 - 8s/epoch - 4ms/step\n",
      "Epoch 2/5\n",
      "1875/1875 - 8s - loss: 0.0784 - accuracy: 0.9764 - 8s/epoch - 4ms/step\n",
      "Epoch 3/5\n",
      "1875/1875 - 8s - loss: 0.0558 - accuracy: 0.9829 - 8s/epoch - 4ms/step\n",
      "Epoch 4/5\n",
      "1875/1875 - 8s - loss: 0.0428 - accuracy: 0.9861 - 8s/epoch - 4ms/step\n",
      "Epoch 5/5\n",
      "1875/1875 - 8s - loss: 0.0336 - accuracy: 0.9892 - 8s/epoch - 4ms/step\n",
      "313/313 - 0s - loss: 0.0731 - accuracy: 0.9808 - 379ms/epoch - 1ms/step\n"
     ]
    },
    {
     "data": {
      "text/plain": [
       "[0.07306182384490967, 0.9807999730110168]"
      ]
     },
     "execution_count": 19,
     "metadata": {},
     "output_type": "execute_result"
    }
   ],
   "source": [
    "model.fit(x_train,y_train,batch_size=32,epochs=5,verbose=2)\n",
    "model.evaluate(x_test,y_test,batch_size=32,verbose=2)"
   ]
  },
  {
   "cell_type": "markdown",
   "id": "325f32a9",
   "metadata": {},
   "source": [
    "Functional API (A bir more flexible)"
   ]
  },
  {
   "cell_type": "code",
   "execution_count": 29,
   "id": "8adde114",
   "metadata": {},
   "outputs": [
    {
     "name": "stdout",
     "output_type": "stream",
     "text": [
      "Model: \"model_2\"\n",
      "_________________________________________________________________\n",
      " Layer (type)                Output Shape              Param #   \n",
      "=================================================================\n",
      " input_10 (InputLayer)       [(None, 784)]             0         \n",
      "                                                                 \n",
      " first_layer (Dense)         (None, 512)               401920    \n",
      "                                                                 \n",
      " dense_24 (Dense)            (None, 256)               131328    \n",
      "                                                                 \n",
      " dense_25 (Dense)            (None, 10)                2570      \n",
      "                                                                 \n",
      "=================================================================\n",
      "Total params: 535818 (2.04 MB)\n",
      "Trainable params: 535818 (2.04 MB)\n",
      "Non-trainable params: 0 (0.00 Byte)\n",
      "_________________________________________________________________\n",
      "None\n"
     ]
    }
   ],
   "source": [
    "inputs=keras.Input(shape=(784))\n",
    "x=layers.Dense(512,activation='relu',name='first_layer')(inputs)\n",
    "x=layers.Dense(256,activation='softmax')(x)\n",
    "outputs=layers.Dense(10,activation='softmax')(x)\n",
    "model=keras.Model(inputs=inputs,outputs=outputs)\n",
    "print(model.summary())"
   ]
  },
  {
   "cell_type": "code",
   "execution_count": 30,
   "id": "027ba23f",
   "metadata": {},
   "outputs": [
    {
     "name": "stderr",
     "output_type": "stream",
     "text": [
      "WARNING:absl:`lr` is deprecated in Keras optimizer, please use `learning_rate` or use the legacy optimizer, e.g.,tf.keras.optimizers.legacy.Adam.\n"
     ]
    }
   ],
   "source": [
    "model.compile(\n",
    "     loss=keras.losses.SparseCategoricalCrossentropy(from_logits=False),\n",
    "     optimizer=keras.optimizers.Adam(lr=0.001),\n",
    "     metrics=[\"accuracy\"],\n",
    ")"
   ]
  },
  {
   "cell_type": "code",
   "execution_count": 31,
   "id": "377215d1",
   "metadata": {},
   "outputs": [
    {
     "name": "stdout",
     "output_type": "stream",
     "text": [
      "Epoch 1/5\n",
      "1875/1875 - 9s - loss: 1.3792 - accuracy: 0.5830 - 9s/epoch - 5ms/step\n",
      "Epoch 2/5\n",
      "1875/1875 - 9s - loss: 0.7179 - accuracy: 0.6841 - 9s/epoch - 5ms/step\n",
      "Epoch 3/5\n",
      "1875/1875 - 8s - loss: 0.5542 - accuracy: 0.7204 - 8s/epoch - 4ms/step\n",
      "Epoch 4/5\n",
      "1875/1875 - 8s - loss: 0.4090 - accuracy: 0.8023 - 8s/epoch - 4ms/step\n",
      "Epoch 5/5\n",
      "1875/1875 - 8s - loss: 0.2449 - accuracy: 0.9512 - 8s/epoch - 4ms/step\n",
      "313/313 - 0s - loss: 0.1839 - accuracy: 0.9734 - 424ms/epoch - 1ms/step\n"
     ]
    },
    {
     "data": {
      "text/plain": [
       "[0.18387310206890106, 0.9733999967575073]"
      ]
     },
     "execution_count": 31,
     "metadata": {},
     "output_type": "execute_result"
    }
   ],
   "source": [
    "model.fit(x_train,y_train,batch_size=32,epochs=5,verbose=2)\n",
    "model.evaluate(x_test,y_test,batch_size=32,verbose=2)"
   ]
  },
  {
   "cell_type": "code",
   "execution_count": 48,
   "id": "6f2a7ea3",
   "metadata": {},
   "outputs": [
    {
     "name": "stdout",
     "output_type": "stream",
     "text": [
      "Model: \"sequential_6\"\n",
      "_________________________________________________________________\n",
      " Layer (type)                Output Shape              Param #   \n",
      "=================================================================\n",
      " dense_29 (Dense)            (None, 512)               401920    \n",
      "                                                                 \n",
      "=================================================================\n",
      "Total params: 401920 (1.53 MB)\n",
      "Trainable params: 401920 (1.53 MB)\n",
      "Non-trainable params: 0 (0.00 Byte)\n",
      "_________________________________________________________________\n",
      "None\n"
     ]
    }
   ],
   "source": [
    "model=keras.Sequential()\n",
    "model.add(keras.Input(shape=(784)))\n",
    "model.add(layers.Dense(512,activation='relu'))\n",
    "print(model.summary())\n",
    "model.add(layers.Dense(256,activation='relu',name='my_layer'))\n",
    "model.add(layers.Dense(10))"
   ]
  },
  {
   "cell_type": "code",
   "execution_count": 45,
   "id": "c8c11066",
   "metadata": {},
   "outputs": [],
   "source": [
    "model=keras.Model(inputs=model.inputs,outputs=[model.layers[-3].output])"
   ]
  },
  {
   "cell_type": "code",
   "execution_count": 46,
   "id": "cd836515",
   "metadata": {},
   "outputs": [
    {
     "name": "stdout",
     "output_type": "stream",
     "text": [
      "1875/1875 [==============================] - 1s 459us/step\n"
     ]
    }
   ],
   "source": [
    "feature=model.predict(x_train)"
   ]
  },
  {
   "cell_type": "code",
   "execution_count": 47,
   "id": "e9bd1988",
   "metadata": {},
   "outputs": [
    {
     "name": "stdout",
     "output_type": "stream",
     "text": [
      "(60000, 784)\n"
     ]
    }
   ],
   "source": [
    "print(feature.shape)"
   ]
  },
  {
   "cell_type": "code",
   "execution_count": 50,
   "id": "9e86cc09",
   "metadata": {},
   "outputs": [],
   "source": [
    "model=keras.Model(inputs=model.inputs,outputs=[model.get_layer('my_layer').output])"
   ]
  },
  {
   "cell_type": "code",
   "execution_count": 51,
   "id": "2cb3baa9",
   "metadata": {},
   "outputs": [],
   "source": [
    "model=keras.Model(inputs=model.inputs,outputs=[layer.output for layer in model.layers])"
   ]
  },
  {
   "cell_type": "code",
   "execution_count": 52,
   "id": "6791311b",
   "metadata": {},
   "outputs": [
    {
     "name": "stdout",
     "output_type": "stream",
     "text": [
      "1875/1875 [==============================] - 3s 1ms/step\n"
     ]
    }
   ],
   "source": [
    "features=model.predict(x_train)"
   ]
  },
  {
   "cell_type": "code",
   "execution_count": 53,
   "id": "3a3c8b17",
   "metadata": {},
   "outputs": [
    {
     "name": "stdout",
     "output_type": "stream",
     "text": [
      "(60000, 784)\n",
      "(60000, 512)\n",
      "(60000, 256)\n"
     ]
    }
   ],
   "source": [
    "for feature in features:\n",
    "    print(feature.shape)"
   ]
  },
  {
   "cell_type": "markdown",
   "id": "850808f2",
   "metadata": {},
   "source": [
    "try using different optimizers than Adam, for example Gradients Descent with Momentum, Adagrad, and RMSprop"
   ]
  },
  {
   "cell_type": "code",
   "execution_count": null,
   "id": "69b6d3b6",
   "metadata": {},
   "outputs": [],
   "source": []
  }
 ],
 "metadata": {
  "kernelspec": {
   "display_name": "Python 3 (ipykernel)",
   "language": "python",
   "name": "python3"
  },
  "language_info": {
   "codemirror_mode": {
    "name": "ipython",
    "version": 3
   },
   "file_extension": ".py",
   "mimetype": "text/x-python",
   "name": "python",
   "nbconvert_exporter": "python",
   "pygments_lexer": "ipython3",
   "version": "3.9.7"
  }
 },
 "nbformat": 4,
 "nbformat_minor": 5
}
